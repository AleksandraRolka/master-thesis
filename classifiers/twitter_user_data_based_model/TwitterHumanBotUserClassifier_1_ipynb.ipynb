{
  "nbformat": 4,
  "nbformat_minor": 0,
  "metadata": {
    "colab": {
      "provenance": []
    },
    "kernelspec": {
      "name": "python3",
      "display_name": "Python 3"
    },
    "language_info": {
      "name": "python"
    }
  },
  "cells": [
    {
      "cell_type": "markdown",
      "source": [
        "## Jupyter Notebook purpose is to test prepared, trained model based on most important Twitter user profile's features:\n",
        "*   followers count\n",
        "*   tweet count\n",
        "*   following count\n",
        "*   account age (in days)\n",
        "*   length of description"
      ],
      "metadata": {
        "id": "r5J6ujmNxVae"
      }
    },
    {
      "cell_type": "markdown",
      "source": [
        "-----\n",
        "-----"
      ],
      "metadata": {
        "id": "1YuQ4kE0x3J2"
      }
    },
    {
      "cell_type": "markdown",
      "source": [
        "#### Install and import libs"
      ],
      "metadata": {
        "id": "xqcbP4NQx5a2"
      }
    },
    {
      "cell_type": "code",
      "source": [
        "from google.colab import auth\n",
        "auth.authenticate_user()"
      ],
      "metadata": {
        "id": "7FlgH64nILXE"
      },
      "execution_count": 1,
      "outputs": []
    },
    {
      "cell_type": "code",
      "source": [
        "!pip install gdown"
      ],
      "metadata": {
        "id": "s0LjN2RAIPAG"
      },
      "execution_count": null,
      "outputs": []
    },
    {
      "cell_type": "code",
      "source": [
        "import gdown\n",
        "import json\n",
        "from datetime import datetime\n",
        "import pandas as pd\n",
        "from keras.models import load_model\n",
        "import ipywidgets as widgets\n",
        "from IPython.display import display"
      ],
      "metadata": {
        "id": "674EtTb6O8CG"
      },
      "execution_count": 3,
      "outputs": []
    },
    {
      "cell_type": "markdown",
      "source": [
        "#### Compile prepared functions"
      ],
      "metadata": {
        "id": "CQw9DbvJyAN8"
      }
    },
    {
      "cell_type": "markdown",
      "source": [
        "##### Function counts days different between days"
      ],
      "metadata": {
        "id": "Zpp10waF8XJl"
      }
    },
    {
      "cell_type": "code",
      "source": [
        "def cal_days_diff(a,b):\n",
        "    return (a - b).days"
      ],
      "metadata": {
        "id": "ESAy_IuxQRwW"
      },
      "execution_count": 4,
      "outputs": []
    },
    {
      "cell_type": "markdown",
      "source": [
        "##### Function standardize dataframe columns based on predefined training set mean and std"
      ],
      "metadata": {
        "id": "0FRy2c8H8puG"
      }
    },
    {
      "cell_type": "code",
      "source": [
        "def standardize_features(df, standardization_values):\n",
        "  for column_name in list(standardization_values.keys()):\n",
        "    mean_training = standardization_values[column_name][0]\n",
        "    std_training = standardization_values[column_name][1]\n",
        "    if column_name in df.columns:\n",
        "      df[column_name] = (df[column_name] - mean_training) / std_training\n",
        "\n",
        "  return df"
      ],
      "metadata": {
        "id": "chYeI7iPNMxr"
      },
      "execution_count": 5,
      "outputs": []
    },
    {
      "cell_type": "markdown",
      "source": [
        "##### Function extracts, preprocesses user's account data and packs into dataframe"
      ],
      "metadata": {
        "id": "xOImH1ny833v"
      }
    },
    {
      "cell_type": "code",
      "source": [
        "def extract_import_features_to_df(user_data):\n",
        "  followers_count\t= 0\n",
        "  following_count\t= 0\n",
        "  tweet_count = 0\n",
        "  account_age\t= 0\n",
        "  descr_len\t= 0\n",
        "  if 'public_metrics' in user_data and user_data['public_metrics']:\n",
        "    if 'followers_count' in user_data['public_metrics'] and user_data['public_metrics']['followers_count']:\n",
        "      followers_count\t= user_data['public_metrics']['followers_count']\n",
        "    if 'tweet_count' in user_data['public_metrics'] and user_data['public_metrics']['tweet_count']:\n",
        "      tweet_count\t= user_data['public_metrics']['tweet_count']\n",
        "    if 'following_count' in user_data['public_metrics'] and user_data['public_metrics']['following_count']:\n",
        "      following_count\t= user_data['public_metrics']['following_count']\n",
        "  if 'created_at' in user_data and user_data['created_at']:\n",
        "    initial_date_format = \"%Y-%m-%d %H:%M:%S%z\"\n",
        "    account_creation_datetime = datetime.strptime(user_data['created_at'], initial_date_format).date()\n",
        "    account_age\t= cal_days_diff(datetime.today().date(), account_creation_datetime)\n",
        "  if 'description' in user_data and user_data['description']:\n",
        "    descr_len\t= len(user_data['description'])\n",
        "\n",
        "  df = pd.DataFrame({\n",
        "    \"followers_count\" : [followers_count],\n",
        "    \"tweet_count\" : [tweet_count],\n",
        "    \"following_count\" : [following_count],\n",
        "    \"account_age\" : [account_age],\n",
        "    \"descr_len\" : [descr_len]\n",
        "  })\n",
        "  return df"
      ],
      "metadata": {
        "id": "0XBfBsYWPSLv"
      },
      "execution_count": 6,
      "outputs": []
    },
    {
      "cell_type": "markdown",
      "source": [
        "##### Predefined mean and std use for standardization"
      ],
      "metadata": {
        "id": "5FFbze4C8-FJ"
      }
    },
    {
      "cell_type": "code",
      "source": [
        "# mean and std of training set for each important feature\n",
        "standardization_values = {  \"followers_count\" : (6208.796717535272, 44145.842669630874),\n",
        "                            \"tweet_count\" : (6595.194212496401, 33286.69197462025),\n",
        "                            \"following_count\" : (1259.0381514540743, 6144.786564521689),\n",
        "                            \"account_age\" : (2443.6521739130435, 1640.571178505393),\n",
        "                            \"descr_len\" : (84.77094730780306, 59.6092442340293)\n",
        "                          }"
      ],
      "metadata": {
        "id": "Z13gv381Tx9d"
      },
      "execution_count": 7,
      "outputs": []
    },
    {
      "cell_type": "markdown",
      "source": [
        "##### Load example from file"
      ],
      "metadata": {
        "id": "ZCII3f3WCN_o"
      }
    },
    {
      "cell_type": "code",
      "source": [
        "def load_example(json_file='bot_1.json'):\n",
        "  user_data_path = example_destination_dir + json_file\n",
        "  data = {}\n",
        "  with open(user_data_path, 'r') as f:\n",
        "    data = json.load(f)\n",
        "  return data"
      ],
      "metadata": {
        "id": "hBmwEwW8B9K1"
      },
      "execution_count": 8,
      "outputs": []
    },
    {
      "cell_type": "markdown",
      "source": [
        "##### Prepare json file uploader"
      ],
      "metadata": {
        "id": "DjdJp2DXDToF"
      }
    },
    {
      "cell_type": "code",
      "source": [
        "uploader = widgets.FileUpload(\n",
        "    accept='.json',\n",
        "    multiple=False\n",
        ")"
      ],
      "metadata": {
        "id": "qPGCU68jDUDB"
      },
      "execution_count": 9,
      "outputs": []
    },
    {
      "cell_type": "markdown",
      "source": [
        "-------\n",
        "-------"
      ],
      "metadata": {
        "id": "Z-OCAh2ryNMo"
      }
    },
    {
      "cell_type": "markdown",
      "source": [
        "# Twitter user classification"
      ],
      "metadata": {
        "id": "CQ2HRXHPyRxL"
      }
    },
    {
      "cell_type": "markdown",
      "source": [
        "-------\n",
        "-------"
      ],
      "metadata": {
        "id": "eOcazlklwDhT"
      }
    },
    {
      "cell_type": "markdown",
      "source": [
        "## Download model end example user data"
      ],
      "metadata": {
        "id": "6C4Yv94jwJzU"
      }
    },
    {
      "cell_type": "code",
      "source": [
        "content_dir = '/content'\n",
        "model_destination_dir = content_dir + '/model/'\n",
        "example_destination_dir = content_dir + '/example_user_data/'"
      ],
      "metadata": {
        "id": "a6YiSS3cNw4W"
      },
      "execution_count": 10,
      "outputs": []
    },
    {
      "cell_type": "code",
      "source": [
        "model_url = 'https://drive.google.com/file/d/14AltsvxlFXKXCnG81vUIIjgptad_z3X8/view?usp=sharing'\n",
        "gdown.download(url=model_url, output='model.zip', quiet=False, fuzzy=True)\n",
        "\n",
        "example_user_data_url = 'https://drive.google.com/file/d/1dkJWEOGr7uaXnwiHY8GdsjBJHLYnHH7h/view?usp=sharing'\n",
        "gdown.download(url=example_user_data_url, output='example_user_data.zip', quiet=False, fuzzy=True)"
      ],
      "metadata": {
        "id": "ZWONThg_IkrA"
      },
      "execution_count": null,
      "outputs": []
    },
    {
      "cell_type": "code",
      "source": [
        "!rm -rf \"$model_destination_dir\"\n",
        "!rm -rf \"$example_destination_dir\"\n",
        "\n",
        "!mkdir -p \"$model_destination_dir\"\n",
        "!mkdir -p \"$example_destination_dir\"\n",
        "\n",
        "!unzip /content/model.zip -d model/\n",
        "!unzip /content/example_user_data.zip -d example_user_data/"
      ],
      "metadata": {
        "id": "emx5hJVVPCSE"
      },
      "execution_count": null,
      "outputs": []
    },
    {
      "cell_type": "markdown",
      "source": [
        "## Load model"
      ],
      "metadata": {
        "id": "ije2_eldwYUu"
      }
    },
    {
      "cell_type": "code",
      "source": [
        "model_path = model_destination_dir + 'model.hdf5'\n",
        "model = load_model(model_path)"
      ],
      "metadata": {
        "id": "yvIc2eXPKfw3"
      },
      "execution_count": 13,
      "outputs": []
    },
    {
      "cell_type": "markdown",
      "source": [
        "## Load user data\n",
        "#### <u>**Important!** Run one of cells with prepared example data or load your own json file with user data</u>\n",
        "\n",
        "Json should have official API Twitter scheme format and consist required user data extended by number of tweets. Rest of user details is not revelant for model.\n",
        "\n",
        "<u>Example (shorten version with important fields only and 'id'):</u>\n",
        "\n",
        "```\n",
        "{\n",
        "  \"description\": \"The Real Twitter API. Tweets about API changes, service  issues and our Developer Platform. Don't get an answer? It's on my website.\",\n",
        "  \"created_at\": \"Wed May 23 06:01:13 +0000 2007\",\n",
        "  \"followers_count\": 6133636,\n",
        "  \"following\": 7979,\n",
        "  \"tweets_count\": 534\n",
        "}\n",
        "```\n",
        "\n"
      ],
      "metadata": {
        "id": "WumrCyB-wahU"
      }
    },
    {
      "cell_type": "markdown",
      "source": [
        "#### Example 1 (bot user)"
      ],
      "metadata": {
        "id": "3dW7w5rnCfSq"
      }
    },
    {
      "cell_type": "code",
      "source": [
        "user_data = load_example(json_file='bot_1.json')"
      ],
      "metadata": {
        "id": "ZY4l-g3PNMpb"
      },
      "execution_count": 14,
      "outputs": []
    },
    {
      "cell_type": "markdown",
      "source": [
        "#### Example 2 (human user)"
      ],
      "metadata": {
        "id": "7xHXFQFRCq-b"
      }
    },
    {
      "cell_type": "code",
      "source": [
        "user_data = load_example(json_file='human_1.json')"
      ],
      "metadata": {
        "id": "ZYKfpZutCq-c"
      },
      "execution_count": 15,
      "outputs": []
    },
    {
      "cell_type": "markdown",
      "source": [
        "#### Example 3 (bot user)"
      ],
      "metadata": {
        "id": "Y6C_nHDZCsE0"
      }
    },
    {
      "cell_type": "code",
      "source": [
        "user_data = load_example(json_file='bot_2.json')"
      ],
      "metadata": {
        "id": "nCkMEMvlCsE1"
      },
      "execution_count": 16,
      "outputs": []
    },
    {
      "cell_type": "markdown",
      "source": [
        "#### Example 4 (human user)"
      ],
      "metadata": {
        "id": "NefhPdQnCsRD"
      }
    },
    {
      "cell_type": "code",
      "source": [
        "user_data = load_example(json_file='human_2.json')"
      ],
      "metadata": {
        "id": "hPEt9en8CsRG"
      },
      "execution_count": 17,
      "outputs": []
    },
    {
      "cell_type": "markdown",
      "source": [
        "#### Load own user data to classify"
      ],
      "metadata": {
        "id": "VGg_GXu0C5P3"
      }
    },
    {
      "cell_type": "code",
      "source": [
        "display(uploader)"
      ],
      "metadata": {
        "id": "uU526xo4DHEx"
      },
      "execution_count": null,
      "outputs": []
    },
    {
      "cell_type": "code",
      "source": [
        "file_name = list(uploader.value)[0]\n",
        "data_bytes = uploader.value[file_name]['content']\n",
        "data_str = bytes.decode(data_bytes, 'utf-8')\n",
        "user_data = json.loads(data_str)"
      ],
      "metadata": {
        "id": "rTZ14mugDliX"
      },
      "execution_count": 51,
      "outputs": []
    },
    {
      "cell_type": "markdown",
      "source": [
        "------"
      ],
      "metadata": {
        "id": "aLCONWenDtJB"
      }
    },
    {
      "cell_type": "markdown",
      "source": [
        "## Prepare data for model input"
      ],
      "metadata": {
        "id": "Ksx011tOwkgd"
      }
    },
    {
      "cell_type": "code",
      "source": [
        "user_data_df = extract_import_features_to_df(user_data)\n",
        "user_data_df = standardize_features(user_data_df, standardization_values)"
      ],
      "metadata": {
        "id": "BJknNhsVNM0r"
      },
      "execution_count": 52,
      "outputs": []
    },
    {
      "cell_type": "markdown",
      "source": [
        "## Classify user"
      ],
      "metadata": {
        "id": "5SiL1AsPwrIL"
      }
    },
    {
      "cell_type": "code",
      "source": [
        "output = model.predict(user_data_df, verbose=0)"
      ],
      "metadata": {
        "id": "UHy6jtUeWosD"
      },
      "execution_count": 53,
      "outputs": []
    },
    {
      "cell_type": "markdown",
      "source": [
        "## Classification result"
      ],
      "metadata": {
        "id": "smUZEFwrw1tW"
      }
    },
    {
      "cell_type": "code",
      "source": [
        "label = 'BOT' if output[0][0] >= 0.5 else 'HUMAN'\n",
        "print(('Probability of user being a bot: {}.').format(output[0][0]))\n",
        "print(('Analyzed user is classified as a {}.').format(label))\n",
        "\n"
      ],
      "metadata": {
        "id": "loT17X8ww08V"
      },
      "execution_count": null,
      "outputs": []
    },
    {
      "cell_type": "code",
      "source": [],
      "metadata": {
        "id": "QaXpahsiDxVq"
      },
      "execution_count": 54,
      "outputs": []
    }
  ]
}